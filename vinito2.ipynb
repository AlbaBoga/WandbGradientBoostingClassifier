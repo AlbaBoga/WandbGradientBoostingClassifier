{
 "cells": [
  {
   "cell_type": "code",
   "execution_count": 1,
   "metadata": {},
   "outputs": [],
   "source": [
    "import wandb\n",
    "import numpy as np\n",
    "from sklearn import datasets\n",
    "from sklearn.model_selection import train_test_split\n",
    "from sklearn.ensemble import GradientBoostingClassifier\n",
    "from sklearn.metrics import accuracy_score, f1_score,roc_auc_score, classification_report, confusion_matrix\n",
    "from sklearn.preprocessing import label_binarize"
   ]
  },
  {
   "cell_type": "code",
   "execution_count": 2,
   "metadata": {},
   "outputs": [],
   "source": [
    "wine = datasets.load_wine()"
   ]
  },
  {
   "cell_type": "code",
   "execution_count": 3,
   "metadata": {},
   "outputs": [
    {
     "name": "stdout",
     "output_type": "stream",
     "text": [
      "['class_0' 'class_1' 'class_2']\n"
     ]
    }
   ],
   "source": [
    "print(wine.target_names)"
   ]
  },
  {
   "cell_type": "code",
   "execution_count": null,
   "metadata": {},
   "outputs": [],
   "source": [
    "X,y=wine.data,wine.target"
   ]
  },
  {
   "cell_type": "code",
   "execution_count": null,
   "metadata": {},
   "outputs": [],
   "source": [
    "X_train, X_test, y_train,y_test =train_test_split(X,y,test_size=0.3,random_state=357)"
   ]
  },
  {
   "cell_type": "code",
   "execution_count": null,
   "metadata": {},
   "outputs": [],
   "source": [
    "hyperparameters ={\n",
    "    'learning_rate': [0.01,0.15,0.5], 'max_depth': [2,3,5], 'n_estimators':[100,125,150], \n",
    "    'loss_functions': ['deviance'], 'subsamples': [0.4,0.8,1], 'min_samples_split': [2,4,6],\n",
    "    'min_samples_leafs':[1,2,3]}"
   ]
  },
  {
   "cell_type": "code",
   "execution_count": null,
   "metadata": {},
   "outputs": [],
   "source": [
    "for lr in hyperparameters['learning_rate']:\n",
    "    for max_depth in hyperparameters['max_depth']:\n",
    "        for n_estimator in hyperparameters['n_estimators']:\n",
    "            for loss_function in hyperparameters['loss_functions']:\n",
    "                for subsample in hyperparameters['subsamples']:\n",
    "                    for min_samples_split in hyperparameters['min_samples_split']:\n",
    "                        for min_samples_leaf in hyperparameters['min_samples_leafs']:\n",
    "\n",
    "                            # Iniciar wandb\n",
    "                            experiment_name = f\"gbm_lr{lr}_depth{max_depth}_est{n_estimator}_loss{loss_function}_subsample{subsample}_minsplit{min_samples_split}_minleaf{min_samples_leaf}\"\n",
    "                            wandb.init(project=\"vinito3\", name=experiment_name, config=hyperparameters)\n",
    "                            # Entrenamiento\n",
    "                            clf = GradientBoostingClassifier(learning_rate=lr, max_depth=max_depth, n_estimators=n_estimator,\n",
    "                                                             loss=loss_function, subsample=subsample, min_samples_split=min_samples_split,\n",
    "                                                             min_samples_leaf=min_samples_leaf, random_state=357, validation_fraction=0.1,\n",
    "                                                             n_iter_no_change=5, tol=0.01)\n",
    "                            clf.fit(X_train, y_train)\n",
    "                            # Predicción\n",
    "                            y_pred = clf.predict(X_test)\n",
    "                            y_pred_proba = clf.predict_proba(X_test)\n",
    "\n",
    "                            #Registro de HP\n",
    "                            wandb.config.learning_rate = lr\n",
    "                            wandb.config.max_depth = max_depth\n",
    "                            wandb.config.n_estimators = n_estimator\n",
    "                            wandb.config.loss_function = loss_function\n",
    "                            wandb.config.subsample = subsample\n",
    "                            wandb.config.min_samples_split = min_samples_split\n",
    "                            wandb.config.min_samples_leaf = min_samples_leaf\n",
    "\n",
    "                            # Cálculo de métricas\n",
    "                            accuracy = accuracy_score(y_test, y_pred)\n",
    "                            f1_macro = f1_score(y_test, y_pred, average=\"macro\")\n",
    "                            y_test_bin = label_binarize(y_test, classes=np.unique(y))\n",
    "                            y_pred_bin = y_pred_proba.reshape(-1, len(np.unique(y)))\n",
    "                            roc_auc_macro = roc_auc_score(y_test_bin, y_pred_bin, average=\"macro\", multi_class=\"ovr\")\n",
    "                            # Registrar las métricas en wandb\n",
    "                            wandb.log({\"accuracy\": accuracy, \"f1_macro\": f1_macro, \"roc_auc_macro\": roc_auc_macro,\n",
    "                                       \"validation_score\": clf.train_score_[-1]})\n",
    "                            # Finalizamos el experimento\n",
    "                            wandb.finish()"
   ]
  }
 ],
 "metadata": {
  "kernelspec": {
   "display_name": "venv_analytics",
   "language": "python",
   "name": "python3"
  },
  "language_info": {
   "codemirror_mode": {
    "name": "ipython",
    "version": 3
   },
   "file_extension": ".py",
   "mimetype": "text/x-python",
   "name": "python",
   "nbconvert_exporter": "python",
   "pygments_lexer": "ipython3",
   "version": "3.10.9"
  },
  "orig_nbformat": 4
 },
 "nbformat": 4,
 "nbformat_minor": 2
}
